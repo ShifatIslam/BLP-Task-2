{
 "cells": [
  {
   "cell_type": "code",
   "execution_count": 17,
   "id": "70166564-0de2-45af-a02f-a4b9ea926b42",
   "metadata": {},
   "outputs": [
    {
     "name": "stdout",
     "output_type": "stream",
     "text": [
      "Saved one-sample submission to: submission_sample.json\n"
     ]
    }
   ],
   "source": [
    "# pip install openai pandas\n",
    "import os, json\n",
    "import pandas as pd\n",
    "from openai import OpenAI\n",
    "\n",
    "# --- Config ---\n",
    "CSV_PATH = \"dev_translated.csv\"          # adjust path if needed\n",
    "OUT_PATH = \"submission_sample.json\"      # output file with 1 sample\n",
    "MODEL = \"gpt-5\"                    # pick a fast, capable model\n",
    "\n",
    "# --- Load one instruction (first row) ---\n",
    "df = pd.read_csv(CSV_PATH)\n",
    "row = df.iloc[0]                         # one sample only\n",
    "sample_id = int(row[\"id\"])\n",
    "instruction = str(row[\"instruction_en\"]).strip()\n",
    "API=\"\"\n",
    "# --- Call OpenAI ---\n",
    "client = OpenAI(api_key=API)\n",
    "\n",
    "system_prompt = (\n",
    "    \"You are a precise Python assistant. \"\n",
    "    \"Write a correct, concise solution in Python that satisfies the user's instruction. \"\n",
    "    #\"Return ONLY in this format:\\n\"\n",
    "    \"python code here\"\n",
    ")\n",
    "\n",
    "user_prompt = (\n",
    "    f\"{instruction}\\n\\n\"\n",
    "    \"Constraints:\\n\"\n",
    "    \"- Return only the code\"\n",
    "    \"- Do not include explanations or tests.\"\n",
    ")\n",
    "\n",
    "resp = client.chat.completions.create(\n",
    "    model=MODEL,\n",
    "    temperature=1,\n",
    "    messages=[\n",
    "        {\"role\": \"system\", \"content\": system_prompt},\n",
    "        {\"role\": \"user\", \"content\": user_prompt},\n",
    "    ],\n",
    ")\n",
    "\n",
    "generated = resp.choices[0].message.content\n",
    "\n",
    "# Safety fallback to guarantee the required prefix exists\n",
    "generated = generated.lstrip()\n",
    "\n",
    "# --- Save in submission-like structure (one item) ---\n",
    "out = [{\"id\": sample_id, \"response\": generated}]\n",
    "with open(OUT_PATH, \"w\", encoding=\"utf-8\") as f:\n",
    "    json.dump(out, f, ensure_ascii=False, indent=2)\n",
    "\n",
    "print(f\"Saved one-sample submission to: {OUT_PATH}\")\n"
   ]
  },
  {
   "cell_type": "code",
   "execution_count": 18,
   "id": "94a0d5b2-505b-4f63-b90c-6ed7bfc3a501",
   "metadata": {},
   "outputs": [
    {
     "name": "stderr",
     "output_type": "stream",
     "text": [
      "100%|██████████████████████████████████████████████████████████████████████████████| 400/400 [1:51:25<00:00, 16.71s/it]"
     ]
    },
    {
     "name": "stdout",
     "output_type": "stream",
     "text": [
      "Saved submission with 400 rows to: submission.json\n"
     ]
    },
    {
     "name": "stderr",
     "output_type": "stream",
     "text": [
      "\n"
     ]
    }
   ],
   "source": [
    "# pip install openai pandas\n",
    "import os, json\n",
    "import pandas as pd\n",
    "from openai import OpenAI\n",
    "from tqdm import tqdm   # optional: shows progress bar\n",
    "\n",
    "# --- Config ---\n",
    "CSV_PATH = \"dev_translated.csv\"     # adjust path if needed\n",
    "OUT_PATH = \"submission.json\"        # output file with all rows\n",
    "MODEL = \"gpt-5\"\n",
    "\n",
    "# --- Load CSV ---\n",
    "df = pd.read_csv(CSV_PATH)\n",
    "\n",
    "# --- Setup client ---\n",
    "client = OpenAI(api_key=API)\n",
    "\n",
    "system_prompt = (\n",
    "    \"You are a precise Python assistant. \"\n",
    "    \"Write a correct, concise solution in Python that satisfies the user's instruction. \"\n",
    "    \"<python code here>\"\n",
    ")\n",
    "\n",
    "results = []\n",
    "\n",
    "for _, row in tqdm(df.iterrows(), total=len(df)):\n",
    "    sample_id = int(row[\"id\"])\n",
    "    instruction = str(row[\"instruction_en\"]).strip()\n",
    "\n",
    "    user_prompt = (\n",
    "        f\"{instruction}\\n\\n\"\n",
    "        \"Constraints:\\n\"\n",
    "        \"- Return only the code\"\n",
    "        \"- Do not include explanations or tests.\"\n",
    "    )\n",
    "\n",
    "    try:\n",
    "        resp = client.chat.completions.create(\n",
    "            model=MODEL,\n",
    "            temperature=1,\n",
    "            messages=[\n",
    "                {\"role\": \"system\", \"content\": system_prompt},\n",
    "                {\"role\": \"user\", \"content\": user_prompt},\n",
    "            ],\n",
    "        )\n",
    "        generated = resp.choices[0].message.content\n",
    "        generated = generated.lstrip()\n",
    "    except Exception as e:\n",
    "        # in case of API error, log empty or fallback\n",
    "        generated = \"### Response:\\n# ERROR: \" + str(e)\n",
    "\n",
    "    results.append({\"id\": sample_id, \"response\": generated})\n",
    "\n",
    "# --- Save submission ---\n",
    "with open(OUT_PATH, \"w\", encoding=\"utf-8\") as f:\n",
    "    json.dump(results, f, ensure_ascii=False, indent=2)\n",
    "\n",
    "print(f\"Saved submission with {len(results)} rows to: {OUT_PATH}\")\n"
   ]
  },
  {
   "cell_type": "code",
   "execution_count": null,
   "id": "a03ed30e-3456-4416-978e-43eb5ef86143",
   "metadata": {},
   "outputs": [],
   "source": []
  }
 ],
 "metadata": {
  "kernelspec": {
   "display_name": "Python 3 (ipykernel)",
   "language": "python",
   "name": "python3"
  },
  "language_info": {
   "codemirror_mode": {
    "name": "ipython",
    "version": 3
   },
   "file_extension": ".py",
   "mimetype": "text/x-python",
   "name": "python",
   "nbconvert_exporter": "python",
   "pygments_lexer": "ipython3",
   "version": "3.12.3"
  }
 },
 "nbformat": 4,
 "nbformat_minor": 5
}
